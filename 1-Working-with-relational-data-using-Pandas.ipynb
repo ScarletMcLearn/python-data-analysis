{
 "cells": [
  {
   "cell_type": "code",
   "execution_count": null,
   "metadata": {
    "collapsed": false
   },
   "outputs": [],
   "source": [
    "import pandas as pd\n",
    "\n",
    "# Some basic data\n",
    "a = { 'name': 'John', 'age': 29, 'id': 1 }\n",
    "b = { 'name': 'Doe', 'age': 19, 'id': 2 }\n",
    "c = [ a, b ]\n",
    "c\n",
    "\n",
    "# Using the above data as Foreign Key (FK)\n",
    "p = { 'user_id': 1, 'likes': 'Mango' }\n",
    "q = { 'user_id': 1, 'likes': 'Pepsi' }\n",
    "r = { 'user_id': 2, 'likes': 'Burger' }\n",
    "s = [ p, q, r ]\n",
    "\n",
    "# Create Pandas DataFrame object and set\n",
    "# appropriate index\n",
    "df1 = pd.DataFrame(c)\n",
    "df1.set_index('id')\n",
    "df1\n",
    "\n",
    "df2 = pd.DataFrame(s)\n",
    "df2.set_index('user_id')\n",
    "df2\n",
    "\n",
    "# Using the FK relation to create a join\n",
    "pd.merge(df1, df2, left_on='id', right_on='user_id')\n",
    "m = pd.merge(df1, df2, left_on='id', right_on='user_id')\n",
    "m.set_index('user_id')\n",
    "\n",
    "# Basic aggregate operations\n",
    "m.groupby('likes')\n",
    "m.groupby('likes')['likes'].count()"
   ]
  }
 ],
 "metadata": {
  "kernelspec": {
   "display_name": "Python 3",
   "language": "python",
   "name": "python3"
  },
  "language_info": {
   "codemirror_mode": {
    "name": "ipython",
    "version": 3
   },
   "file_extension": ".py",
   "mimetype": "text/x-python",
   "name": "python",
   "nbconvert_exporter": "python",
   "pygments_lexer": "ipython3",
   "version": "3.5.0"
  }
 },
 "nbformat": 4,
 "nbformat_minor": 2
}
