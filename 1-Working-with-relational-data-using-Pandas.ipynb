{
 "cells": [
  {
   "cell_type": "markdown",
   "metadata": {},
   "source": [
    "### Testing the waters with sample relational data\n",
    "----\n",
    "Based on well defined theory and availability of highly mature, scalable and accessible relational database systems like Postgres, MariaDB and other commercial alternatives, relational data is pervasive in modern software development. Though, off late, the dominance of SQL systems is being challenged by flexibility of some No-SQL datastores, relational data and datastore continue to be an important source of raw datasets for many data analysis projects.\n",
    "\n",
    "In this part we start-off with a simple relational dataset which will be augmented with more complexity as we proceed through the section. This dataset is then analysed using Pandas - a very nifty python package for working with various kinds of data, especially, tabular and relational data.\n",
    "\n",
    "#### Why not use one of the many popular datasets\n",
    "----\n",
    "Being able to mentally replicate and cross check the result of an algorithm is pretty important in gaining confidence in data analysis. This is not always possible with, say, the Petals dataset or Reuters dataset for that matter. We therefore construct a small dataset of a nature which could very easily be found in many modern codebases."
   ]
  },
  {
   "cell_type": "code",
   "execution_count": 31,
   "metadata": {
    "collapsed": false
   },
   "outputs": [
    {
     "data": {
      "text/plain": [
       "[{'age': 29, 'id': 1, 'name': 'John'},\n",
       " {'age': 19, 'id': 2, 'name': 'Doe'},\n",
       " {'age': 32, 'id': 3, 'name': 'Alex'},\n",
       " {'age': 27, 'id': 4, 'name': 'Rahul'}]"
      ]
     },
     "execution_count": 31,
     "metadata": {},
     "output_type": "execute_result"
    }
   ],
   "source": [
    "import pandas as pd\n",
    "\n",
    "# Some basic data\n",
    "\n",
    "c = [\n",
    "    { 'name': 'John', 'age': 29, 'id': 1 },\n",
    "    { 'name': 'Doe', 'age': 19, 'id': 2 },\n",
    "    { 'name': 'Alex', 'age': 32, 'id': 3 },\n",
    "    { 'name': 'Rahul', 'age': 27, 'id': 4 }\n",
    "]\n",
    "\n",
    "c"
   ]
  },
  {
   "cell_type": "code",
   "execution_count": 32,
   "metadata": {
    "collapsed": false
   },
   "outputs": [
    {
     "data": {
      "text/plain": [
       "[{'likes': 'Mango', 'user_id': 1},\n",
       " {'likes': 'Pepsi', 'user_id': 1},\n",
       " {'likes': 'Burger', 'user_id': 2},\n",
       " {'likes': 'Mango', 'user_id': 2},\n",
       " {'likes': 'Cola', 'user_id': 3},\n",
       " {'likes': 'Orange', 'user_id': 4},\n",
       " {'likes': 'Cola', 'user_id': 3},\n",
       " {'likes': 'Pepsi', 'user_id': 2},\n",
       " {'likes': 'Carrot', 'user_id': 3},\n",
       " {'likes': 'Mango', 'user_id': 4}]"
      ]
     },
     "execution_count": 32,
     "metadata": {},
     "output_type": "execute_result"
    }
   ],
   "source": [
    "# Using the above data as Foreign Key (FK)\n",
    "t = [\n",
    "    { 'user_id': 1, 'likes': 'Mango' },\n",
    "    { 'user_id': 1, 'likes': 'Pepsi' },\n",
    "    { 'user_id': 2, 'likes': 'Burger' },\n",
    "    { 'user_id': 2, 'likes': 'Mango' },\n",
    "    { 'user_id': 3, 'likes': 'Cola' },\n",
    "    { 'user_id': 4, 'likes': 'Orange' },\n",
    "    { 'user_id': 3, 'likes': 'Cola' },\n",
    "    { 'user_id': 2, 'likes': 'Pepsi' },\n",
    "    { 'user_id': 3, 'likes': 'Carrot' },\n",
    "    { 'user_id': 4, 'likes': 'Mango' }\n",
    "]\n",
    "\n",
    "t"
   ]
  },
  {
   "cell_type": "code",
   "execution_count": 33,
   "metadata": {
    "collapsed": false
   },
   "outputs": [
    {
     "data": {
      "text/html": [
       "<div>\n",
       "<table border=\"1\" class=\"dataframe\">\n",
       "  <thead>\n",
       "    <tr style=\"text-align: right;\">\n",
       "      <th></th>\n",
       "      <th>age</th>\n",
       "      <th>id</th>\n",
       "      <th>name</th>\n",
       "    </tr>\n",
       "  </thead>\n",
       "  <tbody>\n",
       "    <tr>\n",
       "      <th>0</th>\n",
       "      <td>29</td>\n",
       "      <td>1</td>\n",
       "      <td>John</td>\n",
       "    </tr>\n",
       "    <tr>\n",
       "      <th>1</th>\n",
       "      <td>19</td>\n",
       "      <td>2</td>\n",
       "      <td>Doe</td>\n",
       "    </tr>\n",
       "    <tr>\n",
       "      <th>2</th>\n",
       "      <td>32</td>\n",
       "      <td>3</td>\n",
       "      <td>Alex</td>\n",
       "    </tr>\n",
       "    <tr>\n",
       "      <th>3</th>\n",
       "      <td>27</td>\n",
       "      <td>4</td>\n",
       "      <td>Rahul</td>\n",
       "    </tr>\n",
       "  </tbody>\n",
       "</table>\n",
       "</div>"
      ],
      "text/plain": [
       "   age  id   name\n",
       "0   29   1   John\n",
       "1   19   2    Doe\n",
       "2   32   3   Alex\n",
       "3   27   4  Rahul"
      ]
     },
     "execution_count": 33,
     "metadata": {},
     "output_type": "execute_result"
    }
   ],
   "source": [
    "# Create Pandas DataFrame object and set\n",
    "# appropriate index\n",
    "df1 = pd.DataFrame(c)\n",
    "df1.set_index('id')\n",
    "df1"
   ]
  },
  {
   "cell_type": "code",
   "execution_count": 34,
   "metadata": {
    "collapsed": false
   },
   "outputs": [
    {
     "data": {
      "text/html": [
       "<div>\n",
       "<table border=\"1\" class=\"dataframe\">\n",
       "  <thead>\n",
       "    <tr style=\"text-align: right;\">\n",
       "      <th></th>\n",
       "      <th>likes</th>\n",
       "      <th>user_id</th>\n",
       "    </tr>\n",
       "  </thead>\n",
       "  <tbody>\n",
       "    <tr>\n",
       "      <th>0</th>\n",
       "      <td>Mango</td>\n",
       "      <td>1</td>\n",
       "    </tr>\n",
       "    <tr>\n",
       "      <th>1</th>\n",
       "      <td>Pepsi</td>\n",
       "      <td>1</td>\n",
       "    </tr>\n",
       "    <tr>\n",
       "      <th>2</th>\n",
       "      <td>Burger</td>\n",
       "      <td>2</td>\n",
       "    </tr>\n",
       "    <tr>\n",
       "      <th>3</th>\n",
       "      <td>Mango</td>\n",
       "      <td>2</td>\n",
       "    </tr>\n",
       "    <tr>\n",
       "      <th>4</th>\n",
       "      <td>Cola</td>\n",
       "      <td>3</td>\n",
       "    </tr>\n",
       "    <tr>\n",
       "      <th>5</th>\n",
       "      <td>Orange</td>\n",
       "      <td>4</td>\n",
       "    </tr>\n",
       "    <tr>\n",
       "      <th>6</th>\n",
       "      <td>Cola</td>\n",
       "      <td>3</td>\n",
       "    </tr>\n",
       "    <tr>\n",
       "      <th>7</th>\n",
       "      <td>Pepsi</td>\n",
       "      <td>2</td>\n",
       "    </tr>\n",
       "    <tr>\n",
       "      <th>8</th>\n",
       "      <td>Carrot</td>\n",
       "      <td>3</td>\n",
       "    </tr>\n",
       "    <tr>\n",
       "      <th>9</th>\n",
       "      <td>Mango</td>\n",
       "      <td>4</td>\n",
       "    </tr>\n",
       "  </tbody>\n",
       "</table>\n",
       "</div>"
      ],
      "text/plain": [
       "    likes  user_id\n",
       "0   Mango        1\n",
       "1   Pepsi        1\n",
       "2  Burger        2\n",
       "3   Mango        2\n",
       "4    Cola        3\n",
       "5  Orange        4\n",
       "6    Cola        3\n",
       "7   Pepsi        2\n",
       "8  Carrot        3\n",
       "9   Mango        4"
      ]
     },
     "execution_count": 34,
     "metadata": {},
     "output_type": "execute_result"
    }
   ],
   "source": [
    "df2 = pd.DataFrame(t)\n",
    "df2.set_index('user_id')\n",
    "df2"
   ]
  },
  {
   "cell_type": "code",
   "execution_count": 35,
   "metadata": {
    "collapsed": false
   },
   "outputs": [
    {
     "data": {
      "text/html": [
       "<div>\n",
       "<table border=\"1\" class=\"dataframe\">\n",
       "  <thead>\n",
       "    <tr style=\"text-align: right;\">\n",
       "      <th></th>\n",
       "      <th>age</th>\n",
       "      <th>id</th>\n",
       "      <th>name</th>\n",
       "      <th>likes</th>\n",
       "      <th>user_id</th>\n",
       "    </tr>\n",
       "  </thead>\n",
       "  <tbody>\n",
       "    <tr>\n",
       "      <th>0</th>\n",
       "      <td>29</td>\n",
       "      <td>1</td>\n",
       "      <td>John</td>\n",
       "      <td>Mango</td>\n",
       "      <td>1</td>\n",
       "    </tr>\n",
       "    <tr>\n",
       "      <th>1</th>\n",
       "      <td>29</td>\n",
       "      <td>1</td>\n",
       "      <td>John</td>\n",
       "      <td>Pepsi</td>\n",
       "      <td>1</td>\n",
       "    </tr>\n",
       "    <tr>\n",
       "      <th>2</th>\n",
       "      <td>19</td>\n",
       "      <td>2</td>\n",
       "      <td>Doe</td>\n",
       "      <td>Burger</td>\n",
       "      <td>2</td>\n",
       "    </tr>\n",
       "    <tr>\n",
       "      <th>3</th>\n",
       "      <td>19</td>\n",
       "      <td>2</td>\n",
       "      <td>Doe</td>\n",
       "      <td>Mango</td>\n",
       "      <td>2</td>\n",
       "    </tr>\n",
       "    <tr>\n",
       "      <th>4</th>\n",
       "      <td>19</td>\n",
       "      <td>2</td>\n",
       "      <td>Doe</td>\n",
       "      <td>Pepsi</td>\n",
       "      <td>2</td>\n",
       "    </tr>\n",
       "    <tr>\n",
       "      <th>5</th>\n",
       "      <td>32</td>\n",
       "      <td>3</td>\n",
       "      <td>Alex</td>\n",
       "      <td>Cola</td>\n",
       "      <td>3</td>\n",
       "    </tr>\n",
       "    <tr>\n",
       "      <th>6</th>\n",
       "      <td>32</td>\n",
       "      <td>3</td>\n",
       "      <td>Alex</td>\n",
       "      <td>Cola</td>\n",
       "      <td>3</td>\n",
       "    </tr>\n",
       "    <tr>\n",
       "      <th>7</th>\n",
       "      <td>32</td>\n",
       "      <td>3</td>\n",
       "      <td>Alex</td>\n",
       "      <td>Carrot</td>\n",
       "      <td>3</td>\n",
       "    </tr>\n",
       "    <tr>\n",
       "      <th>8</th>\n",
       "      <td>27</td>\n",
       "      <td>4</td>\n",
       "      <td>Rahul</td>\n",
       "      <td>Orange</td>\n",
       "      <td>4</td>\n",
       "    </tr>\n",
       "    <tr>\n",
       "      <th>9</th>\n",
       "      <td>27</td>\n",
       "      <td>4</td>\n",
       "      <td>Rahul</td>\n",
       "      <td>Mango</td>\n",
       "      <td>4</td>\n",
       "    </tr>\n",
       "  </tbody>\n",
       "</table>\n",
       "</div>"
      ],
      "text/plain": [
       "   age  id   name   likes  user_id\n",
       "0   29   1   John   Mango        1\n",
       "1   29   1   John   Pepsi        1\n",
       "2   19   2    Doe  Burger        2\n",
       "3   19   2    Doe   Mango        2\n",
       "4   19   2    Doe   Pepsi        2\n",
       "5   32   3   Alex    Cola        3\n",
       "6   32   3   Alex    Cola        3\n",
       "7   32   3   Alex  Carrot        3\n",
       "8   27   4  Rahul  Orange        4\n",
       "9   27   4  Rahul   Mango        4"
      ]
     },
     "execution_count": 35,
     "metadata": {},
     "output_type": "execute_result"
    }
   ],
   "source": [
    "# Using the FK relation to create a join\n",
    "pd.merge(df1, df2, left_on='id', right_on='user_id')\n",
    "m = pd.merge(df1, df2, left_on='id', right_on='user_id')\n",
    "m.set_index('user_id')\n",
    "m"
   ]
  },
  {
   "cell_type": "code",
   "execution_count": 36,
   "metadata": {
    "collapsed": false
   },
   "outputs": [
    {
     "data": {
      "text/html": [
       "<div>\n",
       "<table border=\"1\" class=\"dataframe\">\n",
       "  <thead>\n",
       "    <tr style=\"text-align: right;\">\n",
       "      <th></th>\n",
       "      <th>likes</th>\n",
       "      <th>user_id</th>\n",
       "      <th>age</th>\n",
       "      <th>id</th>\n",
       "      <th>name</th>\n",
       "    </tr>\n",
       "  </thead>\n",
       "  <tbody>\n",
       "    <tr>\n",
       "      <th>0</th>\n",
       "      <td>Mango</td>\n",
       "      <td>1</td>\n",
       "      <td>29</td>\n",
       "      <td>1</td>\n",
       "      <td>John</td>\n",
       "    </tr>\n",
       "    <tr>\n",
       "      <th>1</th>\n",
       "      <td>Pepsi</td>\n",
       "      <td>1</td>\n",
       "      <td>29</td>\n",
       "      <td>1</td>\n",
       "      <td>John</td>\n",
       "    </tr>\n",
       "    <tr>\n",
       "      <th>2</th>\n",
       "      <td>Burger</td>\n",
       "      <td>2</td>\n",
       "      <td>19</td>\n",
       "      <td>2</td>\n",
       "      <td>Doe</td>\n",
       "    </tr>\n",
       "    <tr>\n",
       "      <th>3</th>\n",
       "      <td>Mango</td>\n",
       "      <td>2</td>\n",
       "      <td>19</td>\n",
       "      <td>2</td>\n",
       "      <td>Doe</td>\n",
       "    </tr>\n",
       "    <tr>\n",
       "      <th>4</th>\n",
       "      <td>Pepsi</td>\n",
       "      <td>2</td>\n",
       "      <td>19</td>\n",
       "      <td>2</td>\n",
       "      <td>Doe</td>\n",
       "    </tr>\n",
       "    <tr>\n",
       "      <th>5</th>\n",
       "      <td>Cola</td>\n",
       "      <td>3</td>\n",
       "      <td>32</td>\n",
       "      <td>3</td>\n",
       "      <td>Alex</td>\n",
       "    </tr>\n",
       "    <tr>\n",
       "      <th>6</th>\n",
       "      <td>Cola</td>\n",
       "      <td>3</td>\n",
       "      <td>32</td>\n",
       "      <td>3</td>\n",
       "      <td>Alex</td>\n",
       "    </tr>\n",
       "    <tr>\n",
       "      <th>7</th>\n",
       "      <td>Carrot</td>\n",
       "      <td>3</td>\n",
       "      <td>32</td>\n",
       "      <td>3</td>\n",
       "      <td>Alex</td>\n",
       "    </tr>\n",
       "    <tr>\n",
       "      <th>8</th>\n",
       "      <td>Orange</td>\n",
       "      <td>4</td>\n",
       "      <td>27</td>\n",
       "      <td>4</td>\n",
       "      <td>Rahul</td>\n",
       "    </tr>\n",
       "    <tr>\n",
       "      <th>9</th>\n",
       "      <td>Mango</td>\n",
       "      <td>4</td>\n",
       "      <td>27</td>\n",
       "      <td>4</td>\n",
       "      <td>Rahul</td>\n",
       "    </tr>\n",
       "  </tbody>\n",
       "</table>\n",
       "</div>"
      ],
      "text/plain": [
       "    likes  user_id  age  id   name\n",
       "0   Mango        1   29   1   John\n",
       "1   Pepsi        1   29   1   John\n",
       "2  Burger        2   19   2    Doe\n",
       "3   Mango        2   19   2    Doe\n",
       "4   Pepsi        2   19   2    Doe\n",
       "5    Cola        3   32   3   Alex\n",
       "6    Cola        3   32   3   Alex\n",
       "7  Carrot        3   32   3   Alex\n",
       "8  Orange        4   27   4  Rahul\n",
       "9   Mango        4   27   4  Rahul"
      ]
     },
     "execution_count": 36,
     "metadata": {},
     "output_type": "execute_result"
    }
   ],
   "source": [
    "# Changing left and right hand side of the relationship\n",
    "m2 = pd.merge(df2, df1, left_on='user_id', right_on='id')\n",
    "m2.set_index('user_id')\n",
    "m2"
   ]
  },
  {
   "cell_type": "markdown",
   "metadata": {
    "collapsed": false
   },
   "source": [
    "### Basic Aggregation Operations"
   ]
  },
  {
   "cell_type": "code",
   "execution_count": 37,
   "metadata": {
    "collapsed": false
   },
   "outputs": [
    {
     "data": {
      "text/plain": [
       "likes\n",
       "Burger    1\n",
       "Carrot    1\n",
       "Cola      2\n",
       "Mango     3\n",
       "Orange    1\n",
       "Pepsi     2\n",
       "Name: likes, dtype: int64"
      ]
     },
     "execution_count": 37,
     "metadata": {},
     "output_type": "execute_result"
    }
   ],
   "source": [
    "# Food wise count of likes\n",
    "m.groupby('likes')\n",
    "food_wise = m.groupby('likes')['likes'].count()\n",
    "food_wise"
   ]
  },
  {
   "cell_type": "code",
   "execution_count": 38,
   "metadata": {
    "collapsed": false
   },
   "outputs": [
    {
     "data": {
      "text/plain": [
       "likes\n",
       "Burger    1\n",
       "Carrot    1\n",
       "Orange    1\n",
       "Cola      2\n",
       "Pepsi     2\n",
       "Mango     3\n",
       "Name: likes, dtype: int64"
      ]
     },
     "execution_count": 38,
     "metadata": {},
     "output_type": "execute_result"
    }
   ],
   "source": [
    "# Lets sort our data. Default order is ascending\n",
    "asc_sort = food_wise.sort_values()\n",
    "asc_sort"
   ]
  },
  {
   "cell_type": "code",
   "execution_count": 39,
   "metadata": {
    "collapsed": false
   },
   "outputs": [
    {
     "data": {
      "text/plain": [
       "likes\n",
       "Mango     3\n",
       "Pepsi     2\n",
       "Cola      2\n",
       "Orange    1\n",
       "Carrot    1\n",
       "Burger    1\n",
       "Name: likes, dtype: int64"
      ]
     },
     "execution_count": 39,
     "metadata": {},
     "output_type": "execute_result"
    }
   ],
   "source": [
    "# An example for descending\n",
    "dsc_sort = food_wise.sort_values(ascending=False)\n",
    "dsc_sort"
   ]
  },
  {
   "cell_type": "markdown",
   "metadata": {},
   "source": [
    "##### QUICK NOTE ABOUT `sort_values`\n",
    "\n",
    "By default `sort_values` allocates new memory each time it is called. While working with larger production data we can be limited by the available memory on our machines vis-a-vis the dataset size (and really we do not wish to hit the SWAP partition even on SSDs). In such a situation, we can set the keyword argument `inplace=True`, this will modify the current DataFrame it self instead of allocating new memory.\n",
    "\n",
    "Beware though mutation, while memory efficient, can be a risky affair leading to complex code paths and hard to reason about code."
   ]
  },
  {
   "cell_type": "code",
   "execution_count": null,
   "metadata": {
    "collapsed": true
   },
   "outputs": [],
   "source": [
    "# Using in_place sort for memory efficiency\n",
    "# Notice there is no left hand side value\n",
    "food_wise.sort_values(ascending=False, inplace=True)\n",
    "\n",
    "# food_wise itself has changed\n",
    "food_wise"
   ]
  },
  {
   "cell_type": "markdown",
   "metadata": {},
   "source": [
    "### Working with visualisations and charts\n",
    "\n",
    "We use the python package - matplotlib - to generate visualisations and charts for our analysis. The command `%matplotlib inline` is a handy option which embeds the charts directly into our ipython/jupyter notebook.\n",
    "\n",
    "While we can directly configure and call matplotlib functions to generate charts. Pandas, via the `DataFrame` object, exposes some very convenient methods to quickly generate plots."
   ]
  },
  {
   "cell_type": "code",
   "execution_count": 48,
   "metadata": {
    "collapsed": false
   },
   "outputs": [
    {
     "data": {
      "text/plain": [
       "<matplotlib.axes._subplots.AxesSubplot at 0x10751b9b0>"
      ]
     },
     "execution_count": 48,
     "metadata": {},
     "output_type": "execute_result"
    },
    {
     "data": {
      "image/png": "[encoded data removed]",
      "text/plain": [
       "<matplotlib.figure.Figure at 0x1071e9898>"
      ]
     },
     "metadata": {},
     "output_type": "display_data"
    }
   ],
   "source": [
    "import matplotlib\n",
    "\n",
    "# ggplot is theme of matplotlib which adds\n",
    "# some visual asthetics to our charts. It is\n",
    "# inspired from the eponymous charting package\n",
    "# of the R programming language\n",
    "matplotlib.style.use('ggplot')\n",
    "%matplotlib inline\n",
    "\n",
    "# Every DataFrame object exposes a plot object\n",
    "# which can be used to generate different plots\n",
    "\n",
    "# A pie chart, figsize allows us to define size of the\n",
    "# plot as a tuple of (width, height) in inches\n",
    "food_wise.plot.pie(figsize=(7, 7))"
   ]
  },
  {
   "cell_type": "code",
   "execution_count": 49,
   "metadata": {
    "collapsed": false
   },
   "outputs": [
    {
     "data": {
      "text/plain": [
       "<matplotlib.axes._subplots.AxesSubplot at 0x107548d30>"
      ]
     },
     "execution_count": 49,
     "metadata": {},
     "output_type": "execute_result"
    },
    {
     "data": {
      "image/png": "[encoded data removed]",
      "text/plain": [
       "<matplotlib.figure.Figure at 0x107551be0>"
      ]
     },
     "metadata": {},
     "output_type": "display_data"
    }
   ],
   "source": [
    "# A bar chart\n",
    "food_wise.plot.bar(figsize=(7, 7))"
   ]
  },
  {
   "cell_type": "code",
   "execution_count": 51,
   "metadata": {
    "collapsed": false
   },
   "outputs": [
    {
     "data": {
      "text/plain": [
       "<matplotlib.axes._subplots.AxesSubplot at 0x1077a34e0>"
      ]
     },
     "execution_count": 51,
     "metadata": {},
     "output_type": "execute_result"
    },
    {
     "data": {
      "image/png": "[encoded data removed]",
      "text/plain": [
       "<matplotlib.figure.Figure at 0x10790cf98>"
      ]
     },
     "metadata": {},
     "output_type": "display_data"
    }
   ],
   "source": [
    "# Horizontal bar chart\n",
    "food_wise.plot.barh(figsize=(7, 7))"
   ]
  },
  {
   "cell_type": "code",
   "execution_count": 68,
   "metadata": {
    "collapsed": false
   },
   "outputs": [
    {
     "data": {
      "image/png": "[encoded data removed]",
      "text/plain": [
       "<matplotlib.figure.Figure at 0x109d0a5f8>"
      ]
     },
     "metadata": {},
     "output_type": "display_data"
    }
   ],
   "source": [
    "# Lets plot the most active users - those who hit like\n",
    "# very often using the above techniques\n",
    "\n",
    "# Get the users by number of likes they have\n",
    "agg = m.groupby('name')['likes'].count()\n",
    "\n",
    "# Here we go: Our most active users in a different color\n",
    "plt = agg.plot.barh(figsize=(6, 6), color='#10d3f6')"
   ]
  }
 ],
 "metadata": {
  "kernelspec": {
   "display_name": "Python 3",
   "language": "python",
   "name": "python3"
  },
  "language_info": {
   "codemirror_mode": {
    "name": "ipython",
    "version": 3
   },
   "file_extension": ".py",
   "mimetype": "text/x-python",
   "name": "python",
   "nbconvert_exporter": "python",
   "pygments_lexer": "ipython3",
   "version": "3.5.0"
  }
 },
 "nbformat": 4,
 "nbformat_minor": 2
}
